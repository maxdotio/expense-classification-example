{
 "cells": [
  {
   "cell_type": "code",
   "execution_count": 1,
   "id": "5ff54445",
   "metadata": {},
   "outputs": [],
   "source": [
    "!pip install openai\n",
    "!pip install pandas\n",
    "!pip install tqdm"
   ]
  },
  {
   "cell_type": "code",
   "execution_count": 2,
   "id": "450ad571",
   "metadata": {},
   "outputs": [],
   "source": [
    "import openai\n",
    "import pandas as pd\n",
    "from tqdm.notebook import tqdm"
   ]
  },
  {
   "cell_type": "markdown",
   "id": "ecf0b8e3",
   "metadata": {},
   "source": [
    "### Get an API Key from OpenAI\n",
    "\n",
    "1. Go to https://platform.openai.com/ \n",
    "2. Sign up, add some credits, and generate a secure API key.\n",
    "3. Copy and paste the key below.  Do not share the key with anyone!"
   ]
  },
  {
   "cell_type": "code",
   "execution_count": 3,
   "id": "5d6c4aa7",
   "metadata": {},
   "outputs": [],
   "source": [
    "openai.api_key='YOUR_API_KEY_HERE'"
   ]
  },
  {
   "cell_type": "code",
   "execution_count": 4,
   "id": "659390c4",
   "metadata": {},
   "outputs": [],
   "source": [
    "#These are the classes to match against.  If you change the prompt, change these as well\n",
    "classes = [\"Office expense\", \"Utilities\", \"Meals\", \"Travel\", \"Services\"]"
   ]
  },
  {
   "cell_type": "code",
   "execution_count": 5,
   "id": "1f630e48",
   "metadata": {},
   "outputs": [],
   "source": [
    "df = pd.read_csv('my-expenses-example.csv')"
   ]
  },
  {
   "cell_type": "code",
   "execution_count": 6,
   "id": "86c71c86",
   "metadata": {},
   "outputs": [
    {
     "data": {
      "text/html": [
       "<div>\n",
       "<style scoped>\n",
       "    .dataframe tbody tr th:only-of-type {\n",
       "        vertical-align: middle;\n",
       "    }\n",
       "\n",
       "    .dataframe tbody tr th {\n",
       "        vertical-align: top;\n",
       "    }\n",
       "\n",
       "    .dataframe thead th {\n",
       "        text-align: right;\n",
       "    }\n",
       "</style>\n",
       "<table border=\"1\" class=\"dataframe\">\n",
       "  <thead>\n",
       "    <tr style=\"text-align: right;\">\n",
       "      <th></th>\n",
       "      <th>Transaction Date</th>\n",
       "      <th>Posted Date</th>\n",
       "      <th>Card No.</th>\n",
       "      <th>Description</th>\n",
       "      <th>Debit</th>\n",
       "    </tr>\n",
       "  </thead>\n",
       "  <tbody>\n",
       "    <tr>\n",
       "      <th>0</th>\n",
       "      <td>12/5/22</td>\n",
       "      <td>12/5/22</td>\n",
       "      <td>5555</td>\n",
       "      <td>Amazon Web Services AWS.Amazon.com      WA</td>\n",
       "      <td>1.23</td>\n",
       "    </tr>\n",
       "    <tr>\n",
       "      <th>1</th>\n",
       "      <td>12/5/22</td>\n",
       "      <td>12/5/22</td>\n",
       "      <td>5555</td>\n",
       "      <td>EXPEDIA 722589820440EXPEDIA.COM         WA</td>\n",
       "      <td>9.14</td>\n",
       "    </tr>\n",
       "    <tr>\n",
       "      <th>2</th>\n",
       "      <td>12/5/22</td>\n",
       "      <td>12/5/22</td>\n",
       "      <td>5555</td>\n",
       "      <td>EXPEDIA.COM TRAVEL  SEATTLE             WA</td>\n",
       "      <td>3.14</td>\n",
       "    </tr>\n",
       "    <tr>\n",
       "      <th>3</th>\n",
       "      <td>12/5/22</td>\n",
       "      <td>12/5/22</td>\n",
       "      <td>5555</td>\n",
       "      <td>EXPEDIA.COM TRAVEL  SEATTLE             WA</td>\n",
       "      <td>22.22</td>\n",
       "    </tr>\n",
       "    <tr>\n",
       "      <th>4</th>\n",
       "      <td>12/2/22</td>\n",
       "      <td>12/3/22</td>\n",
       "      <td>5555</td>\n",
       "      <td>AplPay STAPLES 01864ROCHESTER           NY</td>\n",
       "      <td>33.33</td>\n",
       "    </tr>\n",
       "    <tr>\n",
       "      <th>5</th>\n",
       "      <td>12/2/22</td>\n",
       "      <td>12/3/22</td>\n",
       "      <td>5555</td>\n",
       "      <td>USPS PO 3571160610 0ROCHESTER           NY</td>\n",
       "      <td>44.44</td>\n",
       "    </tr>\n",
       "  </tbody>\n",
       "</table>\n",
       "</div>"
      ],
      "text/plain": [
       "  Transaction Date Posted Date  Card No.  \\\n",
       "0          12/5/22     12/5/22      5555   \n",
       "1          12/5/22     12/5/22      5555   \n",
       "2          12/5/22     12/5/22      5555   \n",
       "3          12/5/22     12/5/22      5555   \n",
       "4          12/2/22     12/3/22      5555   \n",
       "5          12/2/22     12/3/22      5555   \n",
       "\n",
       "                                  Description  Debit  \n",
       "0  Amazon Web Services AWS.Amazon.com      WA   1.23  \n",
       "1  EXPEDIA 722589820440EXPEDIA.COM         WA   9.14  \n",
       "2  EXPEDIA.COM TRAVEL  SEATTLE             WA   3.14  \n",
       "3  EXPEDIA.COM TRAVEL  SEATTLE             WA  22.22  \n",
       "4  AplPay STAPLES 01864ROCHESTER           NY  33.33  \n",
       "5  USPS PO 3571160610 0ROCHESTER           NY  44.44  "
      ]
     },
     "execution_count": 6,
     "metadata": {},
     "output_type": "execute_result"
    }
   ],
   "source": [
    "df"
   ]
  },
  {
   "cell_type": "code",
   "execution_count": 7,
   "id": "5c32e4b4",
   "metadata": {},
   "outputs": [
    {
     "name": "stdout",
     "output_type": "stream",
     "text": [
      "Amazon Web Services AWS.Amazon.com      WA\n"
     ]
    }
   ],
   "source": [
    "#Gets the text to use in the prompt\n",
    "#This should be updated to match your spreadsheet\n",
    "#If you have multiple text columns, experiment with concatenating them\n",
    "def get_expense_text(df,idx):\n",
    "    r = df.loc[idx]\n",
    "    desc = r['Description']\n",
    "    if  desc and not pd.isna(desc) and len(desc):\n",
    "        #Only classify expenses with a description\n",
    "        return f\"{desc}\"\n",
    "    else:\n",
    "        return None\n",
    "\n",
    "#Try it out:\n",
    "print(get_expense_text(df,0))"
   ]
  },
  {
   "cell_type": "code",
   "execution_count": 8,
   "id": "065affd0",
   "metadata": {},
   "outputs": [],
   "source": [
    "# Sends a prompt to OpenAI to classify an expense text.\n",
    "# Read and understand the userprompt template, it required some 'prompt engineering'\n",
    "def classify(text):\n",
    "    userprompt = f\"\"\"For the expense classifications {', '.join(classes)}, which would you choose for the following expense description? Only respond with the expense verbatim with no punctuation.\"\"\"\n",
    "    prompt = f\"{userprompt}\\n'{text}'\"\n",
    "    #print(prompt)\n",
    "    res = openai.ChatCompletion.create(\n",
    "        model=\"gpt-3.5-turbo\",\n",
    "        messages=[\n",
    "            {\"role\": \"user\", \"content\":  prompt}\n",
    "        ],\n",
    "        max_tokens=50\n",
    "    )\n",
    "    \n",
    "    return res"
   ]
  },
  {
   "cell_type": "code",
   "execution_count": 9,
   "id": "b9c90c19",
   "metadata": {},
   "outputs": [],
   "source": [
    "# Fuzzy matches a GPT response with a list of accepted classifications\n",
    "def pluck(res):\n",
    "    content = res.choices[0][\"message\"][\"content\"]\n",
    "    if content:\n",
    "        msg = content.strip().lower()\n",
    "        for c in classes:\n",
    "            if c.lower() in msg or msg in c.lower():\n",
    "                return c\n",
    "        return \"Unknown\" #Default to unknown classification\n",
    "    return \"INVALID MESSAGE\""
   ]
  },
  {
   "cell_type": "code",
   "execution_count": 10,
   "id": "6e5bebb2",
   "metadata": {},
   "outputs": [
    {
     "name": "stdout",
     "output_type": "stream",
     "text": [
      "Amazon Web Services AWS.Amazon.com      WA\n",
      "{\n",
      "  \"choices\": [\n",
      "    {\n",
      "      \"finish_reason\": \"stop\",\n",
      "      \"index\": 0,\n",
      "      \"message\": {\n",
      "        \"content\": \"Services\",\n",
      "        \"role\": \"assistant\"\n",
      "      }\n",
      "    }\n",
      "  ],\n",
      "  \"created\": 1687725717,\n",
      "  \"id\": \"chatcmpl-7VQqTtKTBvDJlYd3tWqDIGUIntdn0\",\n",
      "  \"model\": \"gpt-3.5-turbo-0301\",\n",
      "  \"object\": \"chat.completion\",\n",
      "  \"usage\": {\n",
      "    \"completion_tokens\": 1,\n",
      "    \"prompt_tokens\": 56,\n",
      "    \"total_tokens\": 57\n",
      "  }\n",
      "}\n",
      "Services\n"
     ]
    }
   ],
   "source": [
    "#Classify the first expense in the spreadsheet\n",
    "txt0 = get_expense_text(df,0)\n",
    "print(txt0)\n",
    "res0 = classify(txt0)\n",
    "print(res0)\n",
    "classified0 = pluck(res0)\n",
    "print(classified0)"
   ]
  },
  {
   "cell_type": "code",
   "execution_count": 11,
   "id": "e2287201",
   "metadata": {},
   "outputs": [
    {
     "data": {
      "application/vnd.jupyter.widget-view+json": {
       "model_id": "f1395bb3da8843478234890fc1ad0dff",
       "version_major": 2,
       "version_minor": 0
      },
      "text/plain": [
       "  0%|          | 0/6 [00:00<?, ?it/s]"
      ]
     },
     "metadata": {},
     "output_type": "display_data"
    }
   ],
   "source": [
    "#Classify each expense\n",
    "classifications = []\n",
    "for idx in tqdm(range(len(df))):\n",
    "    text = get_expense_text(df,idx)\n",
    "    if text and len(text):\n",
    "        res = classify(text)\n",
    "        val = pluck(res)\n",
    "        classifications.append(val)\n",
    "    else:\n",
    "        classifications.append(None)"
   ]
  },
  {
   "cell_type": "code",
   "execution_count": 12,
   "id": "a07cc76f",
   "metadata": {},
   "outputs": [
    {
     "data": {
      "text/html": [
       "<div>\n",
       "<style scoped>\n",
       "    .dataframe tbody tr th:only-of-type {\n",
       "        vertical-align: middle;\n",
       "    }\n",
       "\n",
       "    .dataframe tbody tr th {\n",
       "        vertical-align: top;\n",
       "    }\n",
       "\n",
       "    .dataframe thead th {\n",
       "        text-align: right;\n",
       "    }\n",
       "</style>\n",
       "<table border=\"1\" class=\"dataframe\">\n",
       "  <thead>\n",
       "    <tr style=\"text-align: right;\">\n",
       "      <th></th>\n",
       "      <th>Transaction Date</th>\n",
       "      <th>Posted Date</th>\n",
       "      <th>Card No.</th>\n",
       "      <th>Description</th>\n",
       "      <th>Debit</th>\n",
       "      <th>gpt_classification</th>\n",
       "    </tr>\n",
       "  </thead>\n",
       "  <tbody>\n",
       "    <tr>\n",
       "      <th>0</th>\n",
       "      <td>12/5/22</td>\n",
       "      <td>12/5/22</td>\n",
       "      <td>5555</td>\n",
       "      <td>Amazon Web Services AWS.Amazon.com      WA</td>\n",
       "      <td>1.23</td>\n",
       "      <td>Services</td>\n",
       "    </tr>\n",
       "    <tr>\n",
       "      <th>1</th>\n",
       "      <td>12/5/22</td>\n",
       "      <td>12/5/22</td>\n",
       "      <td>5555</td>\n",
       "      <td>EXPEDIA 722589820440EXPEDIA.COM         WA</td>\n",
       "      <td>9.14</td>\n",
       "      <td>Travel</td>\n",
       "    </tr>\n",
       "    <tr>\n",
       "      <th>2</th>\n",
       "      <td>12/5/22</td>\n",
       "      <td>12/5/22</td>\n",
       "      <td>5555</td>\n",
       "      <td>EXPEDIA.COM TRAVEL  SEATTLE             WA</td>\n",
       "      <td>3.14</td>\n",
       "      <td>Travel</td>\n",
       "    </tr>\n",
       "    <tr>\n",
       "      <th>3</th>\n",
       "      <td>12/5/22</td>\n",
       "      <td>12/5/22</td>\n",
       "      <td>5555</td>\n",
       "      <td>EXPEDIA.COM TRAVEL  SEATTLE             WA</td>\n",
       "      <td>22.22</td>\n",
       "      <td>Travel</td>\n",
       "    </tr>\n",
       "    <tr>\n",
       "      <th>4</th>\n",
       "      <td>12/2/22</td>\n",
       "      <td>12/3/22</td>\n",
       "      <td>5555</td>\n",
       "      <td>AplPay STAPLES 01864ROCHESTER           NY</td>\n",
       "      <td>33.33</td>\n",
       "      <td>Office expense</td>\n",
       "    </tr>\n",
       "    <tr>\n",
       "      <th>5</th>\n",
       "      <td>12/2/22</td>\n",
       "      <td>12/3/22</td>\n",
       "      <td>5555</td>\n",
       "      <td>USPS PO 3571160610 0ROCHESTER           NY</td>\n",
       "      <td>44.44</td>\n",
       "      <td>Office expense</td>\n",
       "    </tr>\n",
       "  </tbody>\n",
       "</table>\n",
       "</div>"
      ],
      "text/plain": [
       "  Transaction Date Posted Date  Card No.  \\\n",
       "0          12/5/22     12/5/22      5555   \n",
       "1          12/5/22     12/5/22      5555   \n",
       "2          12/5/22     12/5/22      5555   \n",
       "3          12/5/22     12/5/22      5555   \n",
       "4          12/2/22     12/3/22      5555   \n",
       "5          12/2/22     12/3/22      5555   \n",
       "\n",
       "                                  Description  Debit gpt_classification  \n",
       "0  Amazon Web Services AWS.Amazon.com      WA   1.23           Services  \n",
       "1  EXPEDIA 722589820440EXPEDIA.COM         WA   9.14             Travel  \n",
       "2  EXPEDIA.COM TRAVEL  SEATTLE             WA   3.14             Travel  \n",
       "3  EXPEDIA.COM TRAVEL  SEATTLE             WA  22.22             Travel  \n",
       "4  AplPay STAPLES 01864ROCHESTER           NY  33.33     Office expense  \n",
       "5  USPS PO 3571160610 0ROCHESTER           NY  44.44     Office expense  "
      ]
     },
     "execution_count": 12,
     "metadata": {},
     "output_type": "execute_result"
    }
   ],
   "source": [
    "#Add the classifications as a new column to the dataframe\n",
    "df['gpt_classification'] = classifications\n",
    "df"
   ]
  },
  {
   "cell_type": "code",
   "execution_count": 13,
   "id": "e8e921af",
   "metadata": {},
   "outputs": [],
   "source": [
    "#Safe and you're done!\n",
    "df.to_csv('my-expenses-example-classified.csv')"
   ]
  },
  {
   "cell_type": "code",
   "execution_count": null,
   "id": "02b65327",
   "metadata": {},
   "outputs": [],
   "source": []
  }
 ],
 "metadata": {
  "kernelspec": {
   "display_name": "Python 3 (ipykernel)",
   "language": "python",
   "name": "python3"
  },
  "language_info": {
   "codemirror_mode": {
    "name": "ipython",
    "version": 3
   },
   "file_extension": ".py",
   "mimetype": "text/x-python",
   "name": "python",
   "nbconvert_exporter": "python",
   "pygments_lexer": "ipython3",
   "version": "3.9.0"
  }
 },
 "nbformat": 4,
 "nbformat_minor": 5
}
